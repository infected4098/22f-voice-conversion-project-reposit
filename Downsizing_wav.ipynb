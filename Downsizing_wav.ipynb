{
  "nbformat": 4,
  "nbformat_minor": 0,
  "metadata": {
    "colab": {
      "provenance": [],
      "authorship_tag": "ABX9TyOujZcVVP7AWxlgi549iK+p",
      "include_colab_link": true
    },
    "kernelspec": {
      "name": "python3",
      "display_name": "Python 3"
    },
    "language_info": {
      "name": "python"
    }
  },
  "cells": [
    {
      "cell_type": "markdown",
      "metadata": {
        "id": "view-in-github",
        "colab_type": "text"
      },
      "source": [
        "<a href=\"https://colab.research.google.com/github/infected4098/22f-voice-conversion-project-reposit/blob/main/Downsizing_wav.ipynb\" target=\"_parent\"><img src=\"https://colab.research.google.com/assets/colab-badge.svg\" alt=\"Open In Colab\"/></a>"
      ]
    },
    {
      "cell_type": "code",
      "execution_count": null,
      "metadata": {
        "colab": {
          "base_uri": "https://localhost:8080/"
        },
        "id": "BiHRbvdYxpxQ",
        "outputId": "2bed5c1f-6448-4147-c7bd-b7d2bceb4553"
      },
      "outputs": [
        {
          "output_type": "stream",
          "name": "stdout",
          "text": [
            "Drive already mounted at /content/gdrive; to attempt to forcibly remount, call drive.mount(\"/content/gdrive\", force_remount=True).\n"
          ]
        }
      ],
      "source": [
        "import numpy as np\n",
        "import librosa\n",
        "import soundfile as sf\n",
        "import pandas as pd\n",
        "import os\n",
        "import IPython.display as ipd\n",
        "from google.colab import drive\n",
        "import math\n",
        "from tqdm import tqdm\n",
        "drive.mount(\"/content/gdrive\")"
      ]
    },
    {
      "cell_type": "code",
      "source": [
        "#wav 열기. sampling rate 은 48000으로. \n",
        "origin_rate = 48000\n",
        "\n",
        "def open_wav(file_name, origin_rate):\n",
        "  data, rate = librosa.load(file_name, sr=origin_rate)\n",
        "  return data, rate\n",
        "\n",
        "\n",
        "def split_wav(data, sample_rate, start, end):\n",
        "\n",
        "  start *= sample_rate\n",
        "  end *= sample_rate\n",
        "  #start, end 는 리스트의 인덱스가 되어야 하기 때문에 round 모듈을 활용해줌. \n",
        "  start = round(start)\n",
        "  end = round(end)\n",
        "  return data[start:end]\n",
        "\n",
        "def save_wav(data, sample_rate, result_file_name, m_path):\n",
        "  sf.write(os.path.join(m_path, result_file_name), data, sample_rate)\n",
        "  \n",
        "\n"
      ],
      "metadata": {
        "id": "Lky7832kxsve"
      },
      "execution_count": null,
      "outputs": []
    },
    {
      "cell_type": "code",
      "source": [
        "#basic constants.\n",
        "\n",
        "mother_path = \"/content/gdrive/MyDrive/Project/TTS_audiobook/TensorflowTTS/kys/4\"\n",
        "m_path = \"/content/gdrive/MyDrive/Project/TTS_audiobook/TensorflowTTS/kys/4*\"\n",
        "file_list = os.listdir(mother_path)\n",
        "\n"
      ],
      "metadata": {
        "id": "wUvkoymHxstf"
      },
      "execution_count": null,
      "outputs": []
    },
    {
      "cell_type": "code",
      "source": [
        "#test one sample. \n",
        "sample_file = file_list[0]\n",
        "sample_data, sample_rate = open_wav(os.path.join(mother_path, sample_file), origin_rate)\n",
        "cutoff_data = split_wav(sample_data, sample_rate, 0, 5)\n",
        "save_wav(cutoff_data, sample_rate, \"test.wav\", m_path)"
      ],
      "metadata": {
        "id": "H7szdLFYzQPo"
      },
      "execution_count": null,
      "outputs": []
    },
    {
      "cell_type": "markdown",
      "source": [
        "#이제부터 본격적으로 시작"
      ],
      "metadata": {
        "id": "theliyp72OZl"
      }
    },
    {
      "cell_type": "code",
      "source": [
        "#length_list 생성.\n",
        "transcript = \"/content/gdrive/MyDrive/Project/TTS_audiobook/TensorflowTTS/kys/transcript_real.txt\"\n",
        "length_list = []\n",
        "f = open(transcript, encoding = \"utf-8\")\n",
        "for line in f:\n",
        "  try:\n",
        "    length = line.strip().split(\"|\")[4]\n",
        "    length_list.append(float(length))\n",
        "  except:\n",
        "    #마지막 줄 공백으로 처리 되어있어서 코드 추가\n",
        "    print(\"iteration has stopped!\")\n",
        "  \n",
        "\n",
        "\n"
      ],
      "metadata": {
        "colab": {
          "base_uri": "https://localhost:8080/"
        },
        "id": "mHorsfjJzhfX",
        "outputId": "12d8ed85-8722-4728-a6df-840f9b1c96a5"
      },
      "execution_count": null,
      "outputs": [
        {
          "output_type": "stream",
          "name": "stdout",
          "text": [
            "iteration has stopped!\n"
          ]
        }
      ]
    },
    {
      "cell_type": "code",
      "source": [
        "len(length_list)"
      ],
      "metadata": {
        "colab": {
          "base_uri": "https://localhost:8080/"
        },
        "id": "m_BDSDXm0GA6",
        "outputId": "6d7e71ed-1b00-4bee-f3ec-58082049f65a"
      },
      "execution_count": null,
      "outputs": [
        {
          "output_type": "execute_result",
          "data": {
            "text/plain": [
              "800"
            ]
          },
          "metadata": {},
          "execution_count": 59
        }
      ]
    },
    {
      "cell_type": "code",
      "source": [
        "#모든 wav 파일 종합적으로 정리하고 4*파일에 저장. 이 코드는 일회성 코드(드라이브 내에서 이름 바꿀 거기 때문)\n",
        "for i in tqdm(range(0, 800)):\n",
        "  length = length_list[i]\n",
        "  filename = file_list[i]\n",
        "  data, rate = open_wav(os.path.join(mother_path, filename), origin_rate)\n",
        "  cutoff_data = split_wav(data, rate, 0, length)\n",
        "  save_wav(cutoff_data, rate, filename, m_path)"
      ],
      "metadata": {
        "id": "3b-4nHTW5eXT"
      },
      "execution_count": null,
      "outputs": []
    },
    {
      "cell_type": "code",
      "source": [],
      "metadata": {
        "id": "KK_Y8nsa6H60"
      },
      "execution_count": null,
      "outputs": []
    }
  ]
}