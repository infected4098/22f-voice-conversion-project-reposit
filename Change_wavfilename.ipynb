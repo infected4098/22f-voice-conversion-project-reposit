{
  "nbformat": 4,
  "nbformat_minor": 0,
  "metadata": {
    "colab": {
      "provenance": [],
      "authorship_tag": "ABX9TyMN7YIBcZPtBnODtyL4a4V2",
      "include_colab_link": true
    },
    "kernelspec": {
      "name": "python3",
      "display_name": "Python 3"
    },
    "language_info": {
      "name": "python"
    }
  },
  "cells": [
    {
      "cell_type": "markdown",
      "metadata": {
        "id": "view-in-github",
        "colab_type": "text"
      },
      "source": [
        "<a href=\"https://colab.research.google.com/github/infected4098/22f-voice-conversion-project-reposit/blob/main/Change_wavfilename.ipynb\" target=\"_parent\"><img src=\"https://colab.research.google.com/assets/colab-badge.svg\" alt=\"Open In Colab\"/></a>"
      ]
    },
    {
      "cell_type": "code",
      "execution_count": null,
      "metadata": {
        "colab": {
          "base_uri": "https://localhost:8080/"
        },
        "id": "AEkjsFq2MrUd",
        "outputId": "705547f1-a597-459f-e559-e669c74683fe"
      },
      "outputs": [
        {
          "output_type": "stream",
          "name": "stdout",
          "text": [
            "Mounted at /content/gdrive/\n"
          ]
        }
      ],
      "source": [
        "import os\n",
        "from google.colab import drive\n",
        "drive.mount(\"/content/gdrive/\")\n"
      ]
    },
    {
      "cell_type": "code",
      "source": [
        "mother_root = \"/content/gdrive/MyDrive/Project/TTS_audiobook/TensorflowTTS/kys/Stems\"\n",
        "stem_dir_list = os.listdir(mother_root)\n",
        "stem_dir_list[:3]"
      ],
      "metadata": {
        "colab": {
          "base_uri": "https://localhost:8080/"
        },
        "id": "LKP-sH3gM2pt",
        "outputId": "aa2ebeaa-5405-437f-a17c-ac06f72bb431"
      },
      "execution_count": null,
      "outputs": [
        {
          "output_type": "execute_result",
          "data": {
            "text/plain": [
              "[' 4_0715.wav', ' 4_0548.wav', ' 4_0768.wav']"
            ]
          },
          "metadata": {},
          "execution_count": 11
        }
      ]
    },
    {
      "cell_type": "code",
      "source": [
        "stem_dir_list[0][1:]"
      ],
      "metadata": {
        "colab": {
          "base_uri": "https://localhost:8080/",
          "height": 35
        },
        "id": "tA3LNmrjN4sY",
        "outputId": "5b571e21-5462-48b0-cc0f-a14bec6ee096"
      },
      "execution_count": null,
      "outputs": [
        {
          "output_type": "execute_result",
          "data": {
            "text/plain": [
              "' 4_0715.wav'"
            ],
            "application/vnd.google.colaboratory.intrinsic+json": {
              "type": "string"
            }
          },
          "metadata": {},
          "execution_count": 5
        }
      ]
    },
    {
      "cell_type": "code",
      "source": [
        "for root in stem_dir_list:\n",
        "  os.rename(mother_root+\"/\"+root, mother_root+\"/\"+root[1:])"
      ],
      "metadata": {
        "id": "XOcqCopyNqA4"
      },
      "execution_count": null,
      "outputs": []
    },
    {
      "cell_type": "code",
      "source": [
        "mother_root_2 = \"/content/gdrive/MyDrive/Project/TTS_audiobook/TensorflowTTS/kys/Stems5\"\n",
        "stem_dir_list_2 = os.listdir(mother_root_2)\n"
      ],
      "metadata": {
        "id": "mcdsvG74OBQg"
      },
      "execution_count": null,
      "outputs": []
    },
    {
      "cell_type": "code",
      "source": [
        "stem_dir_list_2[0][10:]"
      ],
      "metadata": {
        "colab": {
          "base_uri": "https://localhost:8080/",
          "height": 35
        },
        "id": "DTwJtolJOdrH",
        "outputId": "ab3470a5-a14c-4708-f4dd-2eca6b63859b"
      },
      "execution_count": null,
      "outputs": [
        {
          "output_type": "execute_result",
          "data": {
            "text/plain": [
              "' 4_0496.wav'"
            ],
            "application/vnd.google.colaboratory.intrinsic+json": {
              "type": "string"
            }
          },
          "metadata": {},
          "execution_count": 14
        }
      ]
    },
    {
      "cell_type": "code",
      "source": [
        "for root in stem_dir_list_2:\n",
        "  os.rename(mother_root_2+\"/\"+root, mother_root_2+\"/\"+root[11:])"
      ],
      "metadata": {
        "id": "zX9tYzeeOZmn"
      },
      "execution_count": null,
      "outputs": []
    },
    {
      "cell_type": "code",
      "source": [
        "mother_root_4 = \"/content/gdrive/MyDrive/Project/TTS_audiobook/TensorflowTTS/kys/Stems4\"\n",
        "stem_dir_list_4 = os.listdir(mother_root_4)"
      ],
      "metadata": {
        "id": "gQt9h9EWOsvn"
      },
      "execution_count": null,
      "outputs": []
    },
    {
      "cell_type": "code",
      "source": [
        "stem_dir_list_4[0][11:]"
      ],
      "metadata": {
        "colab": {
          "base_uri": "https://localhost:8080/",
          "height": 35
        },
        "id": "8pgFjJ-VS4HD",
        "outputId": "e09100a4-e433-451f-bea1-523d7027bebe"
      },
      "execution_count": null,
      "outputs": [
        {
          "output_type": "execute_result",
          "data": {
            "text/plain": [
              "'4_0104.wav'"
            ],
            "application/vnd.google.colaboratory.intrinsic+json": {
              "type": "string"
            }
          },
          "metadata": {},
          "execution_count": 24
        }
      ]
    },
    {
      "cell_type": "code",
      "source": [
        "for root in stem_dir_list_4:\n",
        "  os.rename(mother_root_4+\"/\"+root, mother_root_4+\"/\"+root[11:])"
      ],
      "metadata": {
        "id": "1ceX4DqSQSg3"
      },
      "execution_count": null,
      "outputs": []
    }
  ]
}