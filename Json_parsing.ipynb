{
  "nbformat": 4,
  "nbformat_minor": 0,
  "metadata": {
    "colab": {
      "provenance": [],
      "collapsed_sections": [
        "hult3p_BH-Lk"
      ],
      "toc_visible": true,
      "authorship_tag": "ABX9TyM3jQasrOCZFTgF9exiJ/ql",
      "include_colab_link": true
    },
    "kernelspec": {
      "name": "python3",
      "display_name": "Python 3"
    },
    "language_info": {
      "name": "python"
    }
  },
  "cells": [
    {
      "cell_type": "markdown",
      "metadata": {
        "id": "view-in-github",
        "colab_type": "text"
      },
      "source": [
        "<a href=\"https://colab.research.google.com/github/infected4098/22f-voice-conversion-project-reposit/blob/main/Json_parsing.ipynb\" target=\"_parent\"><img src=\"https://colab.research.google.com/assets/colab-badge.svg\" alt=\"Open In Colab\"/></a>"
      ]
    },
    {
      "cell_type": "code",
      "execution_count": null,
      "metadata": {
        "id": "qHfA9E8-3wBV"
      },
      "outputs": [],
      "source": [
        "import json\n",
        "import os\n"
      ]
    },
    {
      "cell_type": "code",
      "source": [
        "from google.colab import drive\n",
        "drive.mount('/content/gdrive')\n",
        "\n",
        "\n"
      ],
      "metadata": {
        "colab": {
          "base_uri": "https://localhost:8080/"
        },
        "id": "b15R5Az64Qfe",
        "outputId": "ff560161-c4c0-49b7-9679-050579b8239b"
      },
      "execution_count": null,
      "outputs": [
        {
          "output_type": "stream",
          "name": "stdout",
          "text": [
            "Mounted at /content/gdrive\n"
          ]
        }
      ]
    },
    {
      "cell_type": "markdown",
      "source": [
        "# 연습"
      ],
      "metadata": {
        "id": "FNWnBa9DH438"
      }
    },
    {
      "cell_type": "code",
      "source": [
        "file_name = \"노인남여_노인대화07_F_1522434093_60_경상_실내_08580.json\"\n",
        "with open (\"/content/gdrive/MyDrive/\"+file_name) as f:\n",
        "  json_file = json.load(f)\n",
        "\n"
      ],
      "metadata": {
        "id": "KVU8Dogd4y81"
      },
      "execution_count": null,
      "outputs": []
    },
    {
      "cell_type": "code",
      "source": [
        "json_file"
      ],
      "metadata": {
        "id": "p9boPrbg4y7V"
      },
      "execution_count": null,
      "outputs": []
    },
    {
      "cell_type": "code",
      "source": [
        "json_file[\"발화정보\"][\"stt\"]"
      ],
      "metadata": {
        "colab": {
          "base_uri": "https://localhost:8080/",
          "height": 36
        },
        "id": "qt73usgc4y5N",
        "outputId": "343cc4aa-a527-4463-e80f-34e3a126f283"
      },
      "execution_count": null,
      "outputs": [
        {
          "output_type": "execute_result",
          "data": {
            "text/plain": [
              "'밥 한끼를 제대로 된 밥 한끼를 먹을 수 있다고 생각하면서'"
            ],
            "application/vnd.google.colaboratory.intrinsic+json": {
              "type": "string"
            }
          },
          "metadata": {},
          "execution_count": 9
        }
      ]
    },
    {
      "cell_type": "code",
      "source": [
        "d_path=\"/content/gdrive/MyDrive/노인남여_노인대화07_F_1522434093_60_경상_실내\"\n",
        "filelist=os.listdir(d_path)\n",
        "\n",
        "print(filelist[:5])"
      ],
      "metadata": {
        "colab": {
          "base_uri": "https://localhost:8080/"
        },
        "id": "N6TkNFaa5Lw9",
        "outputId": "a8559547-9111-485f-e965-57af93c03f13"
      },
      "execution_count": null,
      "outputs": [
        {
          "output_type": "stream",
          "name": "stdout",
          "text": [
            "['노인남여_노인대화07_F_1522434093_60_경상_실내_08608.json', '노인남여_노인대화07_F_1522434093_60_경상_실내_08665.json', '노인남여_노인대화07_F_1522434093_60_경상_실내_P00344.json', '노인남여_노인대화07_F_1522434093_60_경상_실내_P00313.json', '노인남여_노인대화07_F_1522434093_60_경상_실내_08690.json']\n"
          ]
        }
      ]
    },
    {
      "cell_type": "code",
      "source": [
        "for filename in filelist:\n",
        "    uniquefile=os.path.join(d_path, filename )\n",
        "    with open(uniquefile) as f:\n",
        "      json_file = json.load(f)\n",
        "      #print(json_file[\"발화정보\"][\"stt\"])\n",
        "    "
      ],
      "metadata": {
        "id": "szC6BIcg5QEV"
      },
      "execution_count": null,
      "outputs": []
    },
    {
      "cell_type": "code",
      "source": [],
      "metadata": {
        "id": "XXGwpZMC5QB-"
      },
      "execution_count": null,
      "outputs": []
    },
    {
      "cell_type": "markdown",
      "source": [
        "# Parsing. 아동 음성 데이터 처리 (ch.1)\n"
      ],
      "metadata": {
        "id": "hult3p_BH-Lk"
      }
    },
    {
      "cell_type": "code",
      "source": [],
      "metadata": {
        "id": "Ab7eAMp35P_l"
      },
      "execution_count": null,
      "outputs": []
    },
    {
      "cell_type": "code",
      "source": [],
      "metadata": {
        "id": "i-NLbq8EIHjR"
      },
      "execution_count": null,
      "outputs": []
    },
    {
      "cell_type": "code",
      "source": [],
      "metadata": {
        "id": "WmjL7n30IHhH"
      },
      "execution_count": null,
      "outputs": []
    },
    {
      "cell_type": "code",
      "source": [],
      "metadata": {
        "id": "iFUYhUVYIIZq"
      },
      "execution_count": null,
      "outputs": []
    },
    {
      "cell_type": "markdown",
      "source": [
        "# 아동 음성 데이터 처리 (ch.2)"
      ],
      "metadata": {
        "id": "VfLTp9aRII76"
      }
    },
    {
      "cell_type": "code",
      "source": [
        "\"\"\"\n",
        "datasets\n",
        "├── son\n",
        "│   ├── alignment.json\n",
        "│   └── audio\n",
        "│       ├── 1.mp3\n",
        "│       ├── 2.mp3\n",
        "│       ├── 3.mp3\n",
        "│       └── ...\n",
        "└── YOUR_DATASET\n",
        "    ├── alignment.json\n",
        "    └── audio\n",
        "        ├── 1.mp3\n",
        "        ├── 2.mp3\n",
        "        ├── 3.mp3\n",
        "        └── ...\n",
        "\"\"\"\n",
        "#필요 형식은 위와 같음\n",
        "\n",
        "\"\"\"\n",
        "{\n",
        "    \"./datasets/YOUR_DATASET/audio/001.mp3\": \"My name is Taehoon Kim.\",\n",
        "    \"./datasets/YOUR_DATASET/audio/002.mp3\": \"The buses aren't the problem.\",\n",
        "    \"./datasets/YOUR_DATASET/audio/003.mp3\": \"They have discovered a new particle.\",\n",
        "}\n",
        "\"\"\""
      ],
      "metadata": {
        "id": "-rsghPXQIIXo"
      },
      "execution_count": null,
      "outputs": []
    },
    {
      "cell_type": "code",
      "source": [
        "#dict 으로 처리. \n",
        "#key는 파일 경로 \n",
        "#문자열은 문자열 그대로 . 문장단위.\n",
        "male_d_path = \"/content/gdrive/MyDrive/Male_2661/2661\"\n",
        "male_filelist = os.listdir(male_d_path)\n",
        "female_d_path = \"/content/gdrive/MyDrive/Female_0091/0091\"\n",
        "female_filelist = os.listdir(female_d_path)\n"
      ],
      "metadata": {
        "colab": {
          "base_uri": "https://localhost:8080/"
        },
        "id": "0WQyGf_tIIVn",
        "outputId": "74f27bcd-7676-4573-b844-09709f6a7dde"
      },
      "execution_count": null,
      "outputs": [
        {
          "output_type": "execute_result",
          "data": {
            "text/plain": [
              "{'a': 3, 'b': 4}"
            ]
          },
          "metadata": {},
          "execution_count": 4
        }
      ]
    },
    {
      "cell_type": "code",
      "source": [
        "#남자\n",
        "\n",
        "male_infodict = {}\n",
        "male_save_path = \"/content/gdrive/MyDrive/Male_2661/male_alignment.json\"\n",
        "for filename in male_filelist : \n",
        "  uniquefile = os.path.join(male_d_path, filename)\n",
        "  with open(uniquefile) as f:\n",
        "    json_file = json.load(f)\n",
        "    sentence_script = json_file[\"Transcription\"][\"LabelText\"] \n",
        "    male_infodict[uniquefile] = str(sentence_script)\n",
        "\n",
        "\n",
        "with open(male_save_path, 'w') as outfile:\n",
        "    json.dump(male_infodict, outfile)"
      ],
      "metadata": {
        "id": "-_ZDcoWxIUIL"
      },
      "execution_count": null,
      "outputs": []
    },
    {
      "cell_type": "code",
      "source": [
        "#여자\n",
        "\n",
        "female_infodict = {}\n",
        "female_save_path = \"/content/gdrive/MyDrive/Female_0091/female_alignment.json\"\n",
        "for filename in female_filelist : \n",
        "  uniquefile = os.path.join(female_d_path, filename)\n",
        "  with open(uniquefile) as f:\n",
        "    json_file = json.load(f)\n",
        "    sentence_script = json_file[\"Transcription\"][\"LabelText\"] \n",
        "    infodict[uniquefile] = str(sentence_script)\n",
        "\n",
        "\n",
        "with open(female_save_path, 'w') as outfile:\n",
        "    json.dump(infodict, outfile)"
      ],
      "metadata": {
        "id": "ztO1pHw4IUGJ"
      },
      "execution_count": null,
      "outputs": []
    },
    {
      "cell_type": "code",
      "source": [],
      "metadata": {
        "id": "dPgDGaYAIUDx"
      },
      "execution_count": null,
      "outputs": []
    },
    {
      "cell_type": "code",
      "source": [],
      "metadata": {
        "id": "dPm-ocxrIHed"
      },
      "execution_count": null,
      "outputs": []
    },
    {
      "cell_type": "code",
      "source": [],
      "metadata": {
        "id": "681GbyYqIHbz"
      },
      "execution_count": null,
      "outputs": []
    }
  ]
}