{
  "cells": [
    {
      "cell_type": "markdown",
      "metadata": {
        "id": "view-in-github",
        "colab_type": "text"
      },
      "source": [
        "<a href=\"https://colab.research.google.com/github/infected4098/22f-voice-conversion-project-reposit/blob/main/TTS_first.ipynb\" target=\"_parent\"><img src=\"https://colab.research.google.com/assets/colab-badge.svg\" alt=\"Open In Colab\"/></a>"
      ]
    },
    {
      "cell_type": "markdown",
      "source": [
        "# 각종 형식적인 것"
      ],
      "metadata": {
        "id": "_vVSV44Tn5fV"
      }
    },
    {
      "cell_type": "code",
      "source": [
        "from google.colab import drive\n",
        "drive.mount(\"/content/gdrive\")"
      ],
      "metadata": {
        "colab": {
          "base_uri": "https://localhost:8080/"
        },
        "id": "Nl_uiKG_e5da",
        "outputId": "668d169c-4bef-47bc-e4b7-f47e41b65806"
      },
      "execution_count": null,
      "outputs": [
        {
          "output_type": "stream",
          "name": "stdout",
          "text": [
            "Mounted at /content/gdrive\n"
          ]
        }
      ]
    },
    {
      "cell_type": "code",
      "source": [
        "!pip uninstall Tensorflow --y\n",
        "!pip install Tensorflow==2.6.0 "
      ],
      "metadata": {
        "colab": {
          "base_uri": "https://localhost:8080/",
          "height": 1000
        },
        "id": "a7B5AYBye9nJ",
        "outputId": "e02db511-c8e0-4679-f583-20bcceec741d"
      },
      "execution_count": null,
      "outputs": [
        {
          "output_type": "stream",
          "name": "stdout",
          "text": [
            "Found existing installation: tensorflow 2.9.2\n",
            "Uninstalling tensorflow-2.9.2:\n",
            "  Successfully uninstalled tensorflow-2.9.2\n",
            "Looking in indexes: https://pypi.org/simple, https://us-python.pkg.dev/colab-wheels/public/simple/\n",
            "Collecting Tensorflow==2.6.0\n",
            "  Downloading tensorflow-2.6.0-cp38-cp38-manylinux2010_x86_64.whl (458.4 MB)\n",
            "\u001b[K     |████████████████████████████████| 458.4 MB 28 kB/s \n",
            "\u001b[?25hRequirement already satisfied: google-pasta~=0.2 in /usr/local/lib/python3.8/dist-packages (from Tensorflow==2.6.0) (0.2.0)\n",
            "Collecting wrapt~=1.12.1\n",
            "  Downloading wrapt-1.12.1.tar.gz (27 kB)\n",
            "Requirement already satisfied: flatbuffers~=1.12.0 in /usr/local/lib/python3.8/dist-packages (from Tensorflow==2.6.0) (1.12)\n",
            "Requirement already satisfied: protobuf>=3.9.2 in /usr/local/lib/python3.8/dist-packages (from Tensorflow==2.6.0) (3.19.6)\n",
            "Requirement already satisfied: grpcio<2.0,>=1.37.0 in /usr/local/lib/python3.8/dist-packages (from Tensorflow==2.6.0) (1.51.1)\n",
            "Requirement already satisfied: astunparse~=1.6.3 in /usr/local/lib/python3.8/dist-packages (from Tensorflow==2.6.0) (1.6.3)\n",
            "Requirement already satisfied: tensorflow-estimator~=2.6 in /usr/local/lib/python3.8/dist-packages (from Tensorflow==2.6.0) (2.9.0)\n",
            "Collecting numpy~=1.19.2\n",
            "  Downloading numpy-1.19.5-cp38-cp38-manylinux2010_x86_64.whl (14.9 MB)\n",
            "\u001b[K     |████████████████████████████████| 14.9 MB 62.6 MB/s \n",
            "\u001b[?25hRequirement already satisfied: opt-einsum~=3.3.0 in /usr/local/lib/python3.8/dist-packages (from Tensorflow==2.6.0) (3.3.0)\n",
            "Requirement already satisfied: h5py~=3.1.0 in /usr/local/lib/python3.8/dist-packages (from Tensorflow==2.6.0) (3.1.0)\n",
            "Requirement already satisfied: six~=1.15.0 in /usr/local/lib/python3.8/dist-packages (from Tensorflow==2.6.0) (1.15.0)\n",
            "Collecting typing-extensions~=3.7.4\n",
            "  Downloading typing_extensions-3.7.4.3-py3-none-any.whl (22 kB)\n",
            "Requirement already satisfied: keras-preprocessing~=1.1.2 in /usr/local/lib/python3.8/dist-packages (from Tensorflow==2.6.0) (1.1.2)\n",
            "Requirement already satisfied: tensorboard~=2.6 in /usr/local/lib/python3.8/dist-packages (from Tensorflow==2.6.0) (2.9.1)\n",
            "Collecting termcolor~=1.1.0\n",
            "  Downloading termcolor-1.1.0.tar.gz (3.9 kB)\n",
            "Collecting clang~=5.0\n",
            "  Downloading clang-5.0.tar.gz (30 kB)\n",
            "Requirement already satisfied: keras~=2.6 in /usr/local/lib/python3.8/dist-packages (from Tensorflow==2.6.0) (2.9.0)\n",
            "Collecting absl-py~=0.10\n",
            "  Downloading absl_py-0.15.0-py3-none-any.whl (132 kB)\n",
            "\u001b[K     |████████████████████████████████| 132 kB 91.1 MB/s \n",
            "\u001b[?25hRequirement already satisfied: gast==0.4.0 in /usr/local/lib/python3.8/dist-packages (from Tensorflow==2.6.0) (0.4.0)\n",
            "Requirement already satisfied: wheel~=0.35 in /usr/local/lib/python3.8/dist-packages (from Tensorflow==2.6.0) (0.38.4)\n",
            "Requirement already satisfied: markdown>=2.6.8 in /usr/local/lib/python3.8/dist-packages (from tensorboard~=2.6->Tensorflow==2.6.0) (3.4.1)\n",
            "Requirement already satisfied: tensorboard-data-server<0.7.0,>=0.6.0 in /usr/local/lib/python3.8/dist-packages (from tensorboard~=2.6->Tensorflow==2.6.0) (0.6.1)\n",
            "Requirement already satisfied: google-auth-oauthlib<0.5,>=0.4.1 in /usr/local/lib/python3.8/dist-packages (from tensorboard~=2.6->Tensorflow==2.6.0) (0.4.6)\n",
            "Requirement already satisfied: setuptools>=41.0.0 in /usr/local/lib/python3.8/dist-packages (from tensorboard~=2.6->Tensorflow==2.6.0) (57.4.0)\n",
            "Requirement already satisfied: werkzeug>=1.0.1 in /usr/local/lib/python3.8/dist-packages (from tensorboard~=2.6->Tensorflow==2.6.0) (1.0.1)\n",
            "Requirement already satisfied: google-auth<3,>=1.6.3 in /usr/local/lib/python3.8/dist-packages (from tensorboard~=2.6->Tensorflow==2.6.0) (2.15.0)\n",
            "Requirement already satisfied: requests<3,>=2.21.0 in /usr/local/lib/python3.8/dist-packages (from tensorboard~=2.6->Tensorflow==2.6.0) (2.23.0)\n",
            "Requirement already satisfied: tensorboard-plugin-wit>=1.6.0 in /usr/local/lib/python3.8/dist-packages (from tensorboard~=2.6->Tensorflow==2.6.0) (1.8.1)\n",
            "Requirement already satisfied: rsa<5,>=3.1.4 in /usr/local/lib/python3.8/dist-packages (from google-auth<3,>=1.6.3->tensorboard~=2.6->Tensorflow==2.6.0) (4.9)\n",
            "Requirement already satisfied: cachetools<6.0,>=2.0.0 in /usr/local/lib/python3.8/dist-packages (from google-auth<3,>=1.6.3->tensorboard~=2.6->Tensorflow==2.6.0) (5.2.0)\n",
            "Requirement already satisfied: pyasn1-modules>=0.2.1 in /usr/local/lib/python3.8/dist-packages (from google-auth<3,>=1.6.3->tensorboard~=2.6->Tensorflow==2.6.0) (0.2.8)\n",
            "Requirement already satisfied: requests-oauthlib>=0.7.0 in /usr/local/lib/python3.8/dist-packages (from google-auth-oauthlib<0.5,>=0.4.1->tensorboard~=2.6->Tensorflow==2.6.0) (1.3.1)\n",
            "Requirement already satisfied: importlib-metadata>=4.4 in /usr/local/lib/python3.8/dist-packages (from markdown>=2.6.8->tensorboard~=2.6->Tensorflow==2.6.0) (5.1.0)\n",
            "Requirement already satisfied: zipp>=0.5 in /usr/local/lib/python3.8/dist-packages (from importlib-metadata>=4.4->markdown>=2.6.8->tensorboard~=2.6->Tensorflow==2.6.0) (3.11.0)\n",
            "Requirement already satisfied: pyasn1<0.5.0,>=0.4.6 in /usr/local/lib/python3.8/dist-packages (from pyasn1-modules>=0.2.1->google-auth<3,>=1.6.3->tensorboard~=2.6->Tensorflow==2.6.0) (0.4.8)\n",
            "Requirement already satisfied: chardet<4,>=3.0.2 in /usr/local/lib/python3.8/dist-packages (from requests<3,>=2.21.0->tensorboard~=2.6->Tensorflow==2.6.0) (3.0.4)\n",
            "Requirement already satisfied: certifi>=2017.4.17 in /usr/local/lib/python3.8/dist-packages (from requests<3,>=2.21.0->tensorboard~=2.6->Tensorflow==2.6.0) (2022.12.7)\n",
            "Requirement already satisfied: idna<3,>=2.5 in /usr/local/lib/python3.8/dist-packages (from requests<3,>=2.21.0->tensorboard~=2.6->Tensorflow==2.6.0) (2.10)\n",
            "Requirement already satisfied: urllib3!=1.25.0,!=1.25.1,<1.26,>=1.21.1 in /usr/local/lib/python3.8/dist-packages (from requests<3,>=2.21.0->tensorboard~=2.6->Tensorflow==2.6.0) (1.24.3)\n",
            "Requirement already satisfied: oauthlib>=3.0.0 in /usr/local/lib/python3.8/dist-packages (from requests-oauthlib>=0.7.0->google-auth-oauthlib<0.5,>=0.4.1->tensorboard~=2.6->Tensorflow==2.6.0) (3.2.2)\n",
            "Building wheels for collected packages: clang, termcolor, wrapt\n",
            "  Building wheel for clang (setup.py) ... \u001b[?25l\u001b[?25hdone\n",
            "  Created wheel for clang: filename=clang-5.0-py3-none-any.whl size=30694 sha256=dfe3976de4c4aae0415f70f43be9851aed585e5010cf34174a0d9bf53fba3fba\n",
            "  Stored in directory: /root/.cache/pip/wheels/f1/60/77/22b9b5887bd47801796a856f47650d9789c74dc3161a26d608\n",
            "  Building wheel for termcolor (setup.py) ... \u001b[?25l\u001b[?25hdone\n",
            "  Created wheel for termcolor: filename=termcolor-1.1.0-py3-none-any.whl size=4849 sha256=24da29d03010673c198dd5aab35ca853f08c25a3bff082434f51d796109eaa8f\n",
            "  Stored in directory: /root/.cache/pip/wheels/a0/16/9c/5473df82468f958445479c59e784896fa24f4a5fc024b0f501\n",
            "  Building wheel for wrapt (setup.py) ... \u001b[?25l\u001b[?25hdone\n",
            "  Created wheel for wrapt: filename=wrapt-1.12.1-cp38-cp38-linux_x86_64.whl size=72359 sha256=241a6a2a954c20bf3835b8068feae503cb3c2a1913f6740e15df985c4ccf07e9\n",
            "  Stored in directory: /root/.cache/pip/wheels/5f/fd/9e/b6cf5890494cb8ef0b5eaff72e5d55a70fb56316007d6dfe73\n",
            "Successfully built clang termcolor wrapt\n",
            "Installing collected packages: numpy, absl-py, wrapt, typing-extensions, termcolor, clang, Tensorflow\n",
            "  Attempting uninstall: numpy\n",
            "    Found existing installation: numpy 1.21.6\n",
            "    Uninstalling numpy-1.21.6:\n",
            "      Successfully uninstalled numpy-1.21.6\n",
            "  Attempting uninstall: absl-py\n",
            "    Found existing installation: absl-py 1.3.0\n",
            "    Uninstalling absl-py-1.3.0:\n",
            "      Successfully uninstalled absl-py-1.3.0\n",
            "  Attempting uninstall: wrapt\n",
            "    Found existing installation: wrapt 1.14.1\n",
            "    Uninstalling wrapt-1.14.1:\n",
            "      Successfully uninstalled wrapt-1.14.1\n",
            "  Attempting uninstall: typing-extensions\n",
            "    Found existing installation: typing-extensions 4.4.0\n",
            "    Uninstalling typing-extensions-4.4.0:\n",
            "      Successfully uninstalled typing-extensions-4.4.0\n",
            "  Attempting uninstall: termcolor\n",
            "    Found existing installation: termcolor 2.1.1\n",
            "    Uninstalling termcolor-2.1.1:\n",
            "      Successfully uninstalled termcolor-2.1.1\n",
            "\u001b[31mERROR: pip's dependency resolver does not currently take into account all the packages that are installed. This behaviour is the source of the following dependency conflicts.\n",
            "xarray 2022.12.0 requires numpy>=1.20, but you have numpy 1.19.5 which is incompatible.\n",
            "xarray-einstats 0.4.0 requires numpy>=1.20, but you have numpy 1.19.5 which is incompatible.\n",
            "pydantic 1.10.2 requires typing-extensions>=4.1.0, but you have typing-extensions 3.7.4.3 which is incompatible.\n",
            "jaxlib 0.3.25+cuda11.cudnn805 requires numpy>=1.20, but you have numpy 1.19.5 which is incompatible.\n",
            "jax 0.3.25 requires numpy>=1.20, but you have numpy 1.19.5 which is incompatible.\n",
            "cupy-cuda11x 11.0.0 requires numpy<1.26,>=1.20, but you have numpy 1.19.5 which is incompatible.\n",
            "cmdstanpy 1.0.8 requires numpy>=1.21, but you have numpy 1.19.5 which is incompatible.\u001b[0m\n",
            "Successfully installed Tensorflow-2.6.0 absl-py-0.15.0 clang-5.0 numpy-1.19.5 termcolor-1.1.0 typing-extensions-3.7.4.3 wrapt-1.12.1\n"
          ]
        },
        {
          "output_type": "display_data",
          "data": {
            "application/vnd.colab-display-data+json": {
              "pip_warning": {
                "packages": [
                  "numpy"
                ]
              }
            }
          },
          "metadata": {}
        }
      ]
    },
    {
      "cell_type": "code",
      "source": [
        "#!pip uninstall numpy --y\n",
        "#!pip install numpy==1.21.6"
      ],
      "metadata": {
        "id": "rlGgM2C6e9kJ"
      },
      "execution_count": null,
      "outputs": []
    },
    {
      "cell_type": "code",
      "source": [
        "!pip uninstall keras --y\n",
        "!pip install keras==2.6.0"
      ],
      "metadata": {
        "colab": {
          "base_uri": "https://localhost:8080/"
        },
        "id": "EoOe07Nge9dQ",
        "outputId": "ff80b1b9-6fa6-4235-b37d-7797495730e6"
      },
      "execution_count": null,
      "outputs": [
        {
          "output_type": "stream",
          "name": "stdout",
          "text": [
            "Found existing installation: keras 2.9.0\n",
            "Uninstalling keras-2.9.0:\n",
            "  Successfully uninstalled keras-2.9.0\n",
            "Looking in indexes: https://pypi.org/simple, https://us-python.pkg.dev/colab-wheels/public/simple/\n",
            "Collecting keras==2.6.0\n",
            "  Downloading keras-2.6.0-py2.py3-none-any.whl (1.3 MB)\n",
            "\u001b[K     |████████████████████████████████| 1.3 MB 34.1 MB/s \n",
            "\u001b[?25hInstalling collected packages: keras\n",
            "Successfully installed keras-2.6.0\n"
          ]
        }
      ]
    },
    {
      "cell_type": "code",
      "source": [
        "import os\n",
        "os.chdir('/content/gdrive/MyDrive/Project/TTS_audiobook/TensorflowTTS')\n",
        "print(os.getcwd())"
      ],
      "metadata": {
        "colab": {
          "base_uri": "https://localhost:8080/"
        },
        "id": "kxg2XvtgfMaa",
        "outputId": "db652288-e233-4ad9-c9af-a84b86c02f73"
      },
      "execution_count": null,
      "outputs": [
        {
          "output_type": "stream",
          "name": "stdout",
          "text": [
            "/content/gdrive/MyDrive/Project/TTS_audiobook/TensorflowTTS\n"
          ]
        }
      ]
    },
    {
      "cell_type": "code",
      "source": [
        "!pip install git+https://github.com/repodiac/german_transliterate"
      ],
      "metadata": {
        "colab": {
          "base_uri": "https://localhost:8080/"
        },
        "id": "TfT0kgY6fDnb",
        "outputId": "462d47bf-7d6e-49fa-eecb-f414ffafaa48"
      },
      "execution_count": null,
      "outputs": [
        {
          "output_type": "stream",
          "name": "stdout",
          "text": [
            "Looking in indexes: https://pypi.org/simple, https://us-python.pkg.dev/colab-wheels/public/simple/\n",
            "Collecting git+https://github.com/repodiac/german_transliterate\n",
            "  Cloning https://github.com/repodiac/german_transliterate to /tmp/pip-req-build-llg596n6\n",
            "  Running command git clone -q https://github.com/repodiac/german_transliterate /tmp/pip-req-build-llg596n6\n",
            "Collecting num2words\n",
            "  Downloading num2words-0.5.12-py3-none-any.whl (125 kB)\n",
            "\u001b[K     |████████████████████████████████| 125 kB 25.2 MB/s \n",
            "\u001b[?25hCollecting docopt>=0.6.2\n",
            "  Downloading docopt-0.6.2.tar.gz (25 kB)\n",
            "Building wheels for collected packages: german-transliterate, docopt\n",
            "  Building wheel for german-transliterate (setup.py) ... \u001b[?25l\u001b[?25hdone\n",
            "  Created wheel for german-transliterate: filename=german_transliterate-0.1.3-py3-none-any.whl size=20831 sha256=91deea695091a0b12b0efc5bd1757864874836fb42892baa5f108c9e04eca90e\n",
            "  Stored in directory: /tmp/pip-ephem-wheel-cache-7gjj4k3k/wheels/0a/af/4a/c2eb0bfb66483ee7e9dd2af6f824583d88190c8b1c0f00dd20\n",
            "  Building wheel for docopt (setup.py) ... \u001b[?25l\u001b[?25hdone\n",
            "  Created wheel for docopt: filename=docopt-0.6.2-py2.py3-none-any.whl size=13723 sha256=461c11257f2961cb4d4aa5ccaffed3d9d2151cc83b10ae023507c8d1e86a90b1\n",
            "  Stored in directory: /root/.cache/pip/wheels/56/ea/58/ead137b087d9e326852a851351d1debf4ada529b6ac0ec4e8c\n",
            "Successfully built german-transliterate docopt\n",
            "Installing collected packages: docopt, num2words, german-transliterate\n",
            "Successfully installed docopt-0.6.2 german-transliterate-0.1.3 num2words-0.5.12\n"
          ]
        }
      ]
    },
    {
      "cell_type": "code",
      "execution_count": null,
      "metadata": {
        "id": "nTaLs_6002mh"
      },
      "outputs": [],
      "source": [
        "!git clone https://github.com/TensorSpeech/TensorFlowTTS.git\n",
        "os.chdir(\"TensorFlowTTS\")\n",
        "!pip install .\n",
        "os.chdir(\"..\")\n",
        "import sys\n",
        "sys.path.append(\"TensorFlowTTS/\")"
      ]
    },
    {
      "cell_type": "code",
      "source": [
        "#!pip uninstall Tensorflow --y\n",
        "#!pip install Tensorflow==2.6.0 "
      ],
      "metadata": {
        "id": "bAN_Ap8ToxCR"
      },
      "execution_count": null,
      "outputs": []
    },
    {
      "cell_type": "markdown",
      "source": [
        "# 코드 시작"
      ],
      "metadata": {
        "id": "XHSl45EAn8_1"
      }
    },
    {
      "cell_type": "code",
      "source": [
        "#!pip install jamo"
      ],
      "metadata": {
        "colab": {
          "base_uri": "https://localhost:8080/"
        },
        "id": "9_x8iXPce_Tg",
        "outputId": "ccd73b56-0c44-4ecc-d358-bafeaef49714"
      },
      "execution_count": null,
      "outputs": [
        {
          "output_type": "stream",
          "name": "stdout",
          "text": [
            "Looking in indexes: https://pypi.org/simple, https://us-python.pkg.dev/colab-wheels/public/simple/\n",
            "Collecting jamo\n",
            "  Downloading jamo-0.4.1-py3-none-any.whl (9.5 kB)\n",
            "Installing collected packages: jamo\n",
            "Successfully installed jamo-0.4.1\n"
          ]
        }
      ]
    },
    {
      "cell_type": "code",
      "execution_count": null,
      "metadata": {
        "id": "hx-5zIyGLi1i",
        "colab": {
          "base_uri": "https://localhost:8080/"
        },
        "outputId": "4f0a3abf-e72a-49bd-ccdb-c18cf9e973f2"
      },
      "outputs": [
        {
          "output_type": "stream",
          "name": "stderr",
          "text": [
            "/usr/local/lib/python3.8/dist-packages/tensorflow_addons/utils/ensure_tf_install.py:53: UserWarning: Tensorflow Addons supports using Python ops for all Tensorflow versions above or equal to 2.9.0 and strictly below 2.12.0 (nightly versions are not supported). \n",
            " The versions of TensorFlow you are currently using is 2.7.0 and is not supported. \n",
            "Some things might work, some things might not.\n",
            "If you were to encounter a bug, do not file an issue.\n",
            "If you want to make sure you're using a tested and supported configuration, either change the TensorFlow version or the TensorFlow Addons's version. \n",
            "You can find the compatibility matrix in TensorFlow Addon's readme:\n",
            "https://github.com/tensorflow/addons\n",
            "  warnings.warn(\n",
            "[nltk_data] Downloading package averaged_perceptron_tagger to\n",
            "[nltk_data]     /root/nltk_data...\n",
            "[nltk_data]   Unzipping taggers/averaged_perceptron_tagger.zip.\n",
            "[nltk_data] Downloading package cmudict to /root/nltk_data...\n",
            "[nltk_data]   Unzipping corpora/cmudict.zip.\n"
          ]
        }
      ],
      "source": [
        "import tensorflow as tf\n",
        "\n",
        "import yaml\n",
        "import numpy as np\n",
        "import matplotlib.pyplot as plt\n",
        "\n",
        "import IPython.display as ipd\n",
        "\n",
        "from tensorflow_tts.inference import AutoConfig\n",
        "from tensorflow_tts.inference import TFAutoModel\n",
        "from tensorflow_tts.inference import AutoProcessor"
      ]
    },
    {
      "cell_type": "code",
      "execution_count": null,
      "metadata": {
        "id": "eOnqM8IQs4Sx"
      },
      "outputs": [],
      "source": [
        "#tf.__version__\n",
        "#Path(os.getcwd()).rglob(\"*.py\")"
      ]
    },
    {
      "cell_type": "code",
      "source": [],
      "metadata": {
        "colab": {
          "base_uri": "https://localhost:8080/"
        },
        "id": "5T9zU2KVnQOC",
        "outputId": "3b53f5ee-e98a-4011-c6e2-7687578e17a5"
      },
      "execution_count": null,
      "outputs": [
        {
          "output_type": "execute_result",
          "data": {
            "text/plain": [
              "<generator object Path.rglob at 0x7efb0a4ec270>"
            ]
          },
          "metadata": {},
          "execution_count": 16
        }
      ]
    },
    {
      "cell_type": "code",
      "execution_count": null,
      "metadata": {
        "id": "t6X9vF6YACXI",
        "colab": {
          "base_uri": "https://localhost:8080/",
          "height": 107
        },
        "outputId": "6f131cd4-e528-45a7-9f63-714212dbb688"
      },
      "outputs": [
        {
          "output_type": "execute_result",
          "data": {
            "text/plain": [
              "'\\nfrom pathlib import Path\\nimport shutil\\n\\nfor path in Path(os.getcwd()).rglob(\\'*.py\\'):\\n  flis = list()\\n  with open(path,\"r\") as f:\\n\\n    flis = f.readlines()\\n  \\n  rep = open(path,\"w\")\\n  for fl in flis:\\n    nuli = fl\\n\\n    if \"examples.\" in fl:\\n\\n      nuli = nuli.replace(\"examples.\",\"ttsexamples.\")\\n      print(nuli.strip())\\n\\n\\n      rep.write(nuli)\\n  \\n    rep.close()\\n\\n  shutil.move(\"examples\",\"ttsexamples\")\\n'"
            ],
            "application/vnd.google.colaboratory.intrinsic+json": {
              "type": "string"
            }
          },
          "metadata": {},
          "execution_count": 17
        }
      ],
      "source": [
        "## 파일이름 변경 => 충돌방지 \n",
        "\"\"\"\n",
        "from pathlib import Path\n",
        "import shutil\n",
        "\n",
        "for path in Path(os.getcwd()).rglob('*.py'):\n",
        "  flis = list()\n",
        "  with open(path,\"r\") as f:\n",
        "\n",
        "    flis = f.readlines()\n",
        "  \n",
        "  rep = open(path,\"w\")\n",
        "  for fl in flis:\n",
        "    nuli = fl\n",
        "\n",
        "    if \"examples.\" in fl:\n",
        "\n",
        "      nuli = nuli.replace(\"examples.\",\"ttsexamples.\")\n",
        "      print(nuli.strip())\n",
        "\n",
        "\n",
        "      rep.write(nuli)\n",
        "  \n",
        "    rep.close()\n",
        "\n",
        "  shutil.move(\"examples\",\"ttsexamples\")\n",
        "\"\"\""
      ]
    },
    {
      "cell_type": "code",
      "execution_count": null,
      "metadata": {
        "id": "fnZyfwiT3Q2s",
        "scrolled": false
      },
      "outputs": [],
      "source": [
        "# 데이터 전처리 \n",
        "!tensorflow-tts-preprocess --rootdir . --outdir /content/gdrive/MyDrive/Project/TTS_audiobook/TensorflowTTS/dump_kss --config /content/gdrive/MyDrive/Project/TTS_audiobook/TensorflowTTS/TensorFlowTTS/preprocess/kss_preprocess.yaml --dataset kss"
      ]
    },
    {
      "cell_type": "code",
      "execution_count": null,
      "metadata": {
        "colab": {
          "base_uri": "https://localhost:8080/"
        },
        "id": "fxiUwdz43XUM",
        "outputId": "488242b1-5ab8-4d2f-ef9d-71c67156ae90"
      },
      "outputs": [
        {
          "output_type": "stream",
          "name": "stdout",
          "text": [
            "/usr/local/lib/python3.8/dist-packages/tensorflow_addons/utils/ensure_tf_install.py:53: UserWarning: Tensorflow Addons supports using Python ops for all Tensorflow versions above or equal to 2.9.0 and strictly below 2.12.0 (nightly versions are not supported). \n",
            " The versions of TensorFlow you are currently using is 2.7.0 and is not supported. \n",
            "Some things might work, some things might not.\n",
            "If you were to encounter a bug, do not file an issue.\n",
            "If you want to make sure you're using a tested and supported configuration, either change the TensorFlow version or the TensorFlow Addons's version. \n",
            "You can find the compatibility matrix in TensorFlow Addon's readme:\n",
            "https://github.com/tensorflow/addons\n",
            "  warnings.warn(\n",
            "[Normalizing]: 100% 12852/12852 [15:59<00:00, 13.40it/s]\n"
          ]
        }
      ],
      "source": [
        "# 데이터 Normailizing \n",
        "!tensorflow-tts-normalize --rootdir ./dump_kss --outdir /content/gdrive/MyDrive/Project/TTS_audiobook/TensorflowTTS/dump_kss --config /content/gdrive/MyDrive/Project/TTS_audiobook/TensorflowTTS/TensorFlowTTS/preprocess/kss_preprocess.yaml --dataset kss"
      ]
    },
    {
      "cell_type": "code",
      "execution_count": null,
      "metadata": {
        "colab": {
          "base_uri": "https://localhost:8080/"
        },
        "id": "2nF_7zWaYrlz",
        "outputId": "ef0756bc-bc05-4917-8a3e-b71bfccd62a5"
      },
      "outputs": [
        {
          "output_type": "stream",
          "name": "stdout",
          "text": [
            "/usr/local/lib/python3.8/dist-packages/tensorflow_addons/utils/ensure_tf_install.py:53: UserWarning: Tensorflow Addons supports using Python ops for all Tensorflow versions above or equal to 2.9.0 and strictly below 2.12.0 (nightly versions are not supported). \n",
            " The versions of TensorFlow you are currently using is 2.7.0 and is not supported. \n",
            "Some things might work, some things might not.\n",
            "If you were to encounter a bug, do not file an issue.\n",
            "If you want to make sure you're using a tested and supported configuration, either change the TensorFlow version or the TensorFlow Addons's version. \n",
            "You can find the compatibility matrix in TensorFlow Addon's readme:\n",
            "https://github.com/tensorflow/addons\n",
            "  warnings.warn(\n",
            "Traceback (most recent call last):\n",
            "  File \"/content/gdrive/MyDrive/Project/TTS_audiobook/TensorflowTTS/TensorFlowTTS/examples/tacotron2/train_tacotron2.py\", line 787, in <module>\n",
            "    main()\n",
            "  File \"/content/gdrive/MyDrive/Project/TTS_audiobook/TensorflowTTS/TensorFlowTTS/examples/tacotron2/train_tacotron2.py\", line 674, in main\n",
            "    train_dataset = CharactorMelDataset(\n",
            "  File \"/content/gdrive/MyDrive/Project/TTS_audiobook/TensorflowTTS/TensorFlowTTS/examples/tacotron2/train_tacotron2.py\", line 89, in __init__\n",
            "    mel_lengths = [mel_load_fn(f).shape[0] for f in mel_files]\n",
            "  File \"/content/gdrive/MyDrive/Project/TTS_audiobook/TensorflowTTS/TensorFlowTTS/examples/tacotron2/train_tacotron2.py\", line 89, in <listcomp>\n",
            "    mel_lengths = [mel_load_fn(f).shape[0] for f in mel_files]\n",
            "  File \"/usr/local/lib/python3.8/dist-packages/numpy/lib/npyio.py\", line 414, in load\n",
            "    magic = fid.read(N)\n",
            "KeyboardInterrupt\n",
            "^C\n"
          ]
        }
      ],
      "source": [
        "# 타코트론 학습\n",
        "!CUDA_VISIBLE_DEVICES=0 python /content/gdrive/MyDrive/Project/TTS_audiobook/TensorflowTTS/TensorFlowTTS/examples/tacotron2/train_tacotron2.py\\\n",
        "  --train-dir /content/gdrive/MyDrive/Project/TTS_audiobook/TensorflowTTS/dump_kss/train/ \\\n",
        "  --dev-dir /content/gdrive/MyDrive/Project/TTS_audiobook/TensorflowTTS/dump_kss/valid/ \\\n",
        "  --outdir /content/gdrive/MyDrive/Project/TTS_audiobook/TensorflowTTS/exp/train.tacotron2.v1/ \\\n",
        "  --config /content/gdrive/MyDrive/Project/TTS_audiobook/TensorflowTTS/TensorFlowTTS/examples/tacotron2/conf/tacotron2.kss.v1.yaml \\\n",
        "  --use-norm 1 \\\n",
        "  --mixed_precision 0 \\\n",
        "  --resume /content/gdrive/MyDrive/Project/TTS_audiobook/TensorflowTTS/exp/train.tacotron2.v1/checkpoints/model-6789.h5"
      ]
    },
    {
      "cell_type": "code",
      "execution_count": null,
      "metadata": {
        "id": "6IeMgzrjbPhp",
        "colab": {
          "base_uri": "https://localhost:8080/"
        },
        "outputId": "b6962054-1708-4ae8-c2f2-09b7e984ed4e"
      },
      "outputs": [
        {
          "output_type": "stream",
          "name": "stdout",
          "text": [
            "Traceback (most recent call last):\n",
            "  File \"/content/gdrive/MyDrive/Project/TTS_audiobook/TensorflowTTS/TensorFlowTTS/examples/multiband_melgan/train_multiband_melgan.py\", line 37, in <module>\n",
            "    from examples.melgan.audio_mel_dataset import AudioMelDataset\n",
            "ModuleNotFoundError: No module named 'examples.melgan'\n"
          ]
        }
      ],
      "source": [
        "# melgan 학습 \n",
        "!CUDA_VISIBLE_DEVICES=0 python /content/gdrive/MyDrive/Project/TTS_audiobook/TensorflowTTS/TensorFlowTTS/examples/multiband_melgan/train_multiband_melgan.py\\\n",
        "  --train-dir /content/gdrive/MyDrive/Project/TTS_audiobook/TensorflowTTS/dump_kss/train/ \\\n",
        "  --dev-dir /content/gdrive/MyDrive/Project/TTS_audiobook/TensorflowTTS/dump_kss/valid/ \\\n",
        "  --outdir /content/gdrive/MyDrive/Project/TTS_audiobook/TensorflowTTS/exp/train.multiband_melgan.v1/ \\\n",
        "  --config /content/gdrive/MyDrive/Project/TTS_audiobook/TensorflowTTS/TensorFlowTTS/examples/multiband_melgan/conf/multiband_melgan.v1.yaml \\\n",
        "  --use-norm 1 \\\n",
        "  --generator_mixed_precision 1 \\\n",
        "  --resume ''"
      ]
    },
    {
      "cell_type": "code",
      "source": [
        "#import examples\n",
        "#from examples.tacotron2.tacotron_dataset import CharactorMelDataset\n",
        "#from examples.tacotron_dataset import CharactorMelDataset\n"
      ],
      "metadata": {
        "id": "KEIIMeQ9iRay"
      },
      "execution_count": null,
      "outputs": []
    },
    {
      "cell_type": "code",
      "source": [],
      "metadata": {
        "id": "vF0bqbQ7ih6x"
      },
      "execution_count": null,
      "outputs": []
    }
  ],
  "metadata": {
    "colab": {
      "machine_shape": "hm",
      "provenance": [],
      "include_colab_link": true
    },
    "kernelspec": {
      "display_name": "Python 3",
      "language": "python",
      "name": "python3"
    },
    "language_info": {
      "codemirror_mode": {
        "name": "ipython",
        "version": 3
      },
      "file_extension": ".py",
      "mimetype": "text/x-python",
      "name": "python",
      "nbconvert_exporter": "python",
      "pygments_lexer": "ipython3",
      "version": "3.8.3"
    },
    "toc": {
      "base_numbering": 1,
      "nav_menu": {},
      "number_sections": true,
      "sideBar": true,
      "skip_h1_title": false,
      "title_cell": "Table of Contents",
      "title_sidebar": "Contents",
      "toc_cell": false,
      "toc_position": {},
      "toc_section_display": true,
      "toc_window_display": false
    },
    "gpuClass": "standard",
    "accelerator": "GPU"
  },
  "nbformat": 4,
  "nbformat_minor": 0
}